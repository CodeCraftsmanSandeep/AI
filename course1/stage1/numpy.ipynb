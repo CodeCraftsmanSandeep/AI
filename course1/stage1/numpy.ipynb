{
 "cells": [
  {
   "cell_type": "markdown",
   "metadata": {},
   "source": [
    "In this stage I brushed up my python🐍 skills🛠️, and learned some new stuff to get started with machine learning."
   ]
  },
  {
   "cell_type": "code",
   "execution_count": 2,
   "metadata": {},
   "outputs": [
    {
     "data": {
      "text/plain": [
       "'njfdnjfd'"
      ]
     },
     "execution_count": 2,
     "metadata": {},
     "output_type": "execute_result"
    }
   ],
   "source": [
    "string = \"dfjndfjn\"\n",
    "string[::-1]"
   ]
  },
  {
   "cell_type": "code",
   "execution_count": 3,
   "metadata": {},
   "outputs": [
    {
     "data": {
      "text/plain": [
       "8"
      ]
     },
     "execution_count": 3,
     "metadata": {},
     "output_type": "execute_result"
    }
   ],
   "source": [
    "len(string)"
   ]
  },
  {
   "cell_type": "markdown",
   "metadata": {},
   "source": [
    "## Working with Numpy library"
   ]
  },
  {
   "cell_type": "markdown",
   "metadata": {},
   "source": [
    "### NumPy is often significantly faster than standard Python code for numerical computations due to several reasons:\n",
    "\n",
    "1. **Vectorization**\n",
    "Avoiding Loops: NumPy allows you to perform operations on entire arrays without the need for explicit loops in Python. This process, called vectorization, leverages efficient, low-level implementations in C and avoids the overhead of Python loops.\n",
    "Batch Operations: Operations on entire arrays are executed in a single batch, which reduces the overhead of repeatedly interpreting Python code.\n",
    "2. **Optimized C and Fortran Libraries**\n",
    "Core Implementation: NumPy's core operations are implemented in C and Fortran, which are compiled languages known for their high performance. These languages can execute operations more efficiently than Python.\n",
    "BLAS and LAPACK: NumPy can link to highly optimized libraries like BLAS (Basic Linear Algebra Subprograms) and LAPACK (Linear Algebra Package) for many of its operations, particularly those involving linear algebra. These libraries are optimized for performance on various hardware architectures.\n",
    "3. **Efficient Memory Management**\n",
    "Contiguous Memory Layout: NumPy arrays are stored in contiguous blocks of memory, which improves cache performance and memory access patterns. This is in contrast to Python lists, which store elements as pointers to objects scattered in memory.\n",
    "Data Types: NumPy allows you to specify data types explicitly, enabling more efficient use of memory and operations tailored to specific data types (e.g., 32-bit or 64-bit floats)."
   ]
  },
  {
   "cell_type": "code",
   "execution_count": 4,
   "metadata": {},
   "outputs": [],
   "source": [
    "import numpy as np\n"
   ]
  },
  {
   "cell_type": "code",
   "execution_count": 5,
   "metadata": {},
   "outputs": [
    {
     "name": "stdout",
     "output_type": "stream",
     "text": [
      "Python loop: 0.1173245907 seconds\n",
      "NumPy: 0.0059792995 seconds\n"
     ]
    }
   ],
   "source": [
    "# Comparing the time in below cases tell us how fast numpy can be!!\n",
    "import time\n",
    "\n",
    "# Create a large array\n",
    "size = 10**6\n",
    "array = np.random.rand(size)\n",
    "\n",
    "# Sum using a Python loop\n",
    "start_time = time.time()\n",
    "total = sum(array)\n",
    "python_time = time.time() - start_time\n",
    "print(f\"Python loop: {python_time:.10f} seconds\")\n",
    "\n",
    "# Sum using NumPy\n",
    "start_time = time.time()\n",
    "total = np.sum(array)\n",
    "numpy_time = time.time() - start_time\n",
    "print(f\"NumPy: {numpy_time:.10f} seconds\")\n"
   ]
  },
  {
   "cell_type": "code",
   "execution_count": 6,
   "metadata": {},
   "outputs": [
    {
     "name": "stdout",
     "output_type": "stream",
     "text": [
      "<class 'numpy.ndarray'>\n"
     ]
    },
    {
     "data": {
      "text/plain": [
       "array([1, 2])"
      ]
     },
     "execution_count": 6,
     "metadata": {},
     "output_type": "execute_result"
    }
   ],
   "source": [
    "np1 = np.array([1, 2])\n",
    "print(type(np1))\n",
    "np1"
   ]
  },
  {
   "cell_type": "code",
   "execution_count": 7,
   "metadata": {},
   "outputs": [
    {
     "data": {
      "text/plain": [
       "(2,)"
      ]
     },
     "execution_count": 7,
     "metadata": {},
     "output_type": "execute_result"
    }
   ],
   "source": [
    "np1.shape"
   ]
  },
  {
   "cell_type": "code",
   "execution_count": 8,
   "metadata": {},
   "outputs": [
    {
     "data": {
      "text/plain": [
       "array([[ 1,  2,  3],\n",
       "       [10, 11, 12]])"
      ]
     },
     "execution_count": 8,
     "metadata": {},
     "output_type": "execute_result"
    }
   ],
   "source": [
    "# 2-D numpy array\n",
    "Mat1 = np.array([[1, 2, 3], [10, 11, 12]])\n",
    "Mat1"
   ]
  },
  {
   "cell_type": "code",
   "execution_count": 9,
   "metadata": {},
   "outputs": [],
   "source": [
    "# updating element at row 1 and column 2\n",
    "Mat1[1, 2] = 100"
   ]
  },
  {
   "cell_type": "code",
   "execution_count": 10,
   "metadata": {},
   "outputs": [
    {
     "data": {
      "text/plain": [
       "array([[  1,   2,   3],\n",
       "       [ 10,  11, 100]])"
      ]
     },
     "execution_count": 10,
     "metadata": {},
     "output_type": "execute_result"
    }
   ],
   "source": [
    "Mat1"
   ]
  },
  {
   "cell_type": "code",
   "execution_count": 11,
   "metadata": {},
   "outputs": [
    {
     "data": {
      "text/plain": [
       "(2, 3)"
      ]
     },
     "execution_count": 11,
     "metadata": {},
     "output_type": "execute_result"
    }
   ],
   "source": [
    "Mat1.shape"
   ]
  },
  {
   "cell_type": "code",
   "execution_count": 12,
   "metadata": {},
   "outputs": [
    {
     "data": {
      "text/plain": [
       "2"
      ]
     },
     "execution_count": 12,
     "metadata": {},
     "output_type": "execute_result"
    }
   ],
   "source": [
    "Mat1.ndim"
   ]
  },
  {
   "cell_type": "code",
   "execution_count": 13,
   "metadata": {},
   "outputs": [
    {
     "data": {
      "text/plain": [
       "dtype('int32')"
      ]
     },
     "execution_count": 13,
     "metadata": {},
     "output_type": "execute_result"
    }
   ],
   "source": [
    "# Getting datatype \n",
    "Mat1.dtype"
   ]
  },
  {
   "cell_type": "code",
   "execution_count": 14,
   "metadata": {},
   "outputs": [],
   "source": [
    "np2 = np.array([1, 2, 3.0])"
   ]
  },
  {
   "cell_type": "code",
   "execution_count": 15,
   "metadata": {},
   "outputs": [
    {
     "data": {
      "text/plain": [
       "dtype('float64')"
      ]
     },
     "execution_count": 15,
     "metadata": {},
     "output_type": "execute_result"
    }
   ],
   "source": [
    "np2.dtype"
   ]
  },
  {
   "cell_type": "code",
   "execution_count": 16,
   "metadata": {},
   "outputs": [],
   "source": [
    "np3 = np.array([1, 2.34, \"dfjbvdj\"])"
   ]
  },
  {
   "cell_type": "code",
   "execution_count": 17,
   "metadata": {},
   "outputs": [
    {
     "data": {
      "text/plain": [
       "array(['1', '2.34', 'dfjbvdj'], dtype='<U32')"
      ]
     },
     "execution_count": 17,
     "metadata": {},
     "output_type": "execute_result"
    }
   ],
   "source": [
    "np3"
   ]
  },
  {
   "cell_type": "code",
   "execution_count": 18,
   "metadata": {},
   "outputs": [],
   "source": [
    "np3[0] = \"jgjrnfjg\""
   ]
  },
  {
   "cell_type": "code",
   "execution_count": 19,
   "metadata": {},
   "outputs": [
    {
     "data": {
      "text/plain": [
       "array(['jgjrnfjg', '2.34', 'dfjbvdj'], dtype='<U32')"
      ]
     },
     "execution_count": 19,
     "metadata": {},
     "output_type": "execute_result"
    }
   ],
   "source": [
    "np3"
   ]
  },
  {
   "cell_type": "code",
   "execution_count": 20,
   "metadata": {},
   "outputs": [
    {
     "data": {
      "text/plain": [
       "array([ 1,  4,  7, 10])"
      ]
     },
     "execution_count": 20,
     "metadata": {},
     "output_type": "execute_result"
    }
   ],
   "source": [
    "# arrange in numpy\n",
    "Mat = np.arange(1, 11, 3)\n",
    "Mat"
   ]
  },
  {
   "cell_type": "code",
   "execution_count": 21,
   "metadata": {},
   "outputs": [
    {
     "data": {
      "text/plain": [
       "array([ 1.        ,  2.11111111,  3.22222222,  4.33333333,  5.44444444,\n",
       "        6.55555556,  7.66666667,  8.77777778,  9.88888889, 11.        ])"
      ]
     },
     "execution_count": 21,
     "metadata": {},
     "output_type": "execute_result"
    }
   ],
   "source": [
    "# linspace in numpy, 10 quidistant elements\n",
    "Mat = np.linspace(1, 11, 10)\n",
    "Mat"
   ]
  },
  {
   "cell_type": "code",
   "execution_count": 22,
   "metadata": {},
   "outputs": [],
   "source": [
    "# 5 X 5 matrix, with each element between 0 and 1, uniform distribution\n",
    "Mat4 = np.random.rand(5, 5)"
   ]
  },
  {
   "cell_type": "code",
   "execution_count": 23,
   "metadata": {},
   "outputs": [
    {
     "data": {
      "text/plain": [
       "array([[0.29314591, 0.90784825, 0.51717775, 0.35383567, 0.19082127],\n",
       "       [0.38663777, 0.50702301, 0.46771796, 0.38294166, 0.49073666],\n",
       "       [0.4626259 , 0.48518575, 0.76507096, 0.1096412 , 0.70794794],\n",
       "       [0.30004367, 0.97183243, 0.44112222, 0.10931886, 0.95246676],\n",
       "       [0.20708138, 0.02016581, 0.28167137, 0.90834675, 0.23938912]])"
      ]
     },
     "execution_count": 23,
     "metadata": {},
     "output_type": "execute_result"
    }
   ],
   "source": [
    "Mat4"
   ]
  },
  {
   "cell_type": "code",
   "execution_count": 24,
   "metadata": {},
   "outputs": [
    {
     "data": {
      "text/plain": [
       "array([[-0.67355798, -0.02235885,  0.67567077, -1.21010778,  0.50796134,\n",
       "        -0.70611037, -0.27221395, -1.64035244, -1.12631559, -0.58081472],\n",
       "       [ 1.68179259,  0.21798361,  0.59429681, -1.79182626,  0.11886   ,\n",
       "        -1.26404909, -0.73624553,  0.65013451, -0.72456501,  0.84924981],\n",
       "       [-1.27827008,  0.55389367,  0.68328092,  0.03645082, -0.7625546 ,\n",
       "         1.00855569,  0.03018501,  0.90439197,  0.72336735, -0.03946908],\n",
       "       [ 0.46475266,  0.43164095,  0.5864705 , -1.82281769,  1.760719  ,\n",
       "         0.91322562, -1.26623298, -1.66835818,  0.85770291, -0.28245957],\n",
       "       [ 0.80435109, -0.48259848, -0.99091503,  0.1025411 ,  0.41056233,\n",
       "        -0.17973955, -0.18371402,  0.16425297, -1.51356756,  0.20940054],\n",
       "       [ 0.83639053,  0.31263172, -1.07750761, -0.10195477,  0.12109395,\n",
       "        -0.76770903, -0.71847545, -1.46830526, -0.23255862,  1.37160853],\n",
       "       [ 0.16400113, -1.32548826, -0.04625231, -0.01749812,  0.36072261,\n",
       "         0.49343805, -1.00870885,  0.04111693, -1.46365513,  1.67505741],\n",
       "       [-0.4470522 ,  0.27419513,  0.07805173, -0.12467669,  1.0871874 ,\n",
       "         2.08481629,  0.14772208, -1.87451093,  0.92282334,  1.23919529],\n",
       "       [-0.11314961, -0.55039657, -0.88316984, -0.43885361,  0.32617605,\n",
       "        -0.95621477,  0.51604387,  0.17801863,  0.62835904, -0.47362676],\n",
       "       [ 0.67802273, -0.79468612, -1.22899124,  1.21109906, -0.07634464,\n",
       "        -0.25767154,  0.60983685,  1.18538441,  2.19212378,  2.30606764]])"
      ]
     },
     "execution_count": 24,
     "metadata": {},
     "output_type": "execute_result"
    }
   ],
   "source": [
    "#  Normally distributed random numbers\n",
    "Mat5 = np.random.randn(10, 10)\n",
    "Mat5"
   ]
  },
  {
   "cell_type": "code",
   "execution_count": 25,
   "metadata": {},
   "outputs": [
    {
     "data": {
      "text/plain": [
       "array([[10,  0,  0,  0],\n",
       "       [ 0, 10,  0,  0],\n",
       "       [ 0,  0, 11,  0],\n",
       "       [ 0,  0,  0, 12]])"
      ]
     },
     "execution_count": 25,
     "metadata": {},
     "output_type": "execute_result"
    }
   ],
   "source": [
    "np.diag([10, 10, 11 , 12])"
   ]
  },
  {
   "cell_type": "code",
   "execution_count": 26,
   "metadata": {},
   "outputs": [
    {
     "data": {
      "text/plain": [
       "array([[0., 0., 0., 0.],\n",
       "       [0., 0., 0., 0.]])"
      ]
     },
     "execution_count": 26,
     "metadata": {},
     "output_type": "execute_result"
    }
   ],
   "source": [
    "np.zeros([2, 4])"
   ]
  },
  {
   "cell_type": "code",
   "execution_count": 27,
   "metadata": {},
   "outputs": [
    {
     "data": {
      "text/plain": [
       "array([[[1., 1.],\n",
       "        [1., 1.]],\n",
       "\n",
       "       [[1., 1.],\n",
       "        [1., 1.]]])"
      ]
     },
     "execution_count": 27,
     "metadata": {},
     "output_type": "execute_result"
    }
   ],
   "source": [
    "np.ones([2, 2, 2])"
   ]
  },
  {
   "cell_type": "code",
   "execution_count": 28,
   "metadata": {},
   "outputs": [
    {
     "data": {
      "text/plain": [
       "array([[ 1.66805149, -0.14105884, -1.73216101, -0.69621141,  0.92012134,\n",
       "         0.55316262],\n",
       "       [ 1.68099655,  0.01329926, -0.18646611, -0.21416044,  1.26906115,\n",
       "        -0.4252117 ],\n",
       "       [ 0.43328274,  0.20481825,  1.42794289,  0.02299173, -0.8506473 ,\n",
       "         1.56696482],\n",
       "       [ 0.62556233,  0.87983377,  0.6774441 ,  1.5131373 , -1.5698599 ,\n",
       "        -0.37205481],\n",
       "       [ 0.01832217,  0.00868064,  0.24105411,  0.29185493, -1.31914451,\n",
       "        -0.26706116]])"
      ]
     },
     "execution_count": 28,
     "metadata": {},
     "output_type": "execute_result"
    }
   ],
   "source": [
    "# slicings \n",
    "Mat5 = np.random.randn(5, 6)\n",
    "Mat5"
   ]
  },
  {
   "cell_type": "code",
   "execution_count": 29,
   "metadata": {},
   "outputs": [
    {
     "data": {
      "text/plain": [
       "1.6680514942721407"
      ]
     },
     "execution_count": 29,
     "metadata": {},
     "output_type": "execute_result"
    }
   ],
   "source": [
    "Mat5[0, 0]"
   ]
  },
  {
   "cell_type": "code",
   "execution_count": 30,
   "metadata": {},
   "outputs": [
    {
     "data": {
      "text/plain": [
       "array([[ 1.66805149, -0.14105884, -1.73216101, -0.69621141,  0.92012134,\n",
       "         0.55316262],\n",
       "       [ 1.68099655,  0.01329926, -0.18646611, -0.21416044,  1.26906115,\n",
       "        -0.4252117 ],\n",
       "       [ 0.43328274,  0.20481825,  1.42794289,  0.02299173, -0.8506473 ,\n",
       "         1.56696482]])"
      ]
     },
     "execution_count": 30,
     "metadata": {},
     "output_type": "execute_result"
    }
   ],
   "source": [
    "# Rows with index 0, 1 and 2 and all columns\n",
    "Mat5[0:3, :]"
   ]
  },
  {
   "cell_type": "code",
   "execution_count": 31,
   "metadata": {},
   "outputs": [
    {
     "data": {
      "text/plain": [
       "tuple"
      ]
     },
     "execution_count": 31,
     "metadata": {},
     "output_type": "execute_result"
    }
   ],
   "source": [
    "type(Mat5.shape)"
   ]
  }
 ],
 "metadata": {
  "kernelspec": {
   "display_name": "Python 3",
   "language": "python",
   "name": "python3"
  },
  "language_info": {
   "codemirror_mode": {
    "name": "ipython",
    "version": 3
   },
   "file_extension": ".py",
   "mimetype": "text/x-python",
   "name": "python",
   "nbconvert_exporter": "python",
   "pygments_lexer": "ipython3",
   "version": "3.12.3"
  }
 },
 "nbformat": 4,
 "nbformat_minor": 2
}
