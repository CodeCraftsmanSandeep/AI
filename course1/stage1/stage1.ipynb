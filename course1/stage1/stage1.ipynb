{
 "cells": [
  {
   "cell_type": "markdown",
   "metadata": {},
   "source": [
    "In this stage I brushed up my python🐍 skills🛠️, and learned some new stuff to get started with machine learning."
   ]
  },
  {
   "cell_type": "code",
   "execution_count": 1,
   "metadata": {},
   "outputs": [
    {
     "data": {
      "text/plain": [
       "'njfdnjfd'"
      ]
     },
     "execution_count": 1,
     "metadata": {},
     "output_type": "execute_result"
    }
   ],
   "source": [
    "string = \"dfjndfjn\"\n",
    "string[::-1]"
   ]
  },
  {
   "cell_type": "code",
   "execution_count": 2,
   "metadata": {},
   "outputs": [
    {
     "data": {
      "text/plain": [
       "8"
      ]
     },
     "execution_count": 2,
     "metadata": {},
     "output_type": "execute_result"
    }
   ],
   "source": [
    "len(string)"
   ]
  },
  {
   "cell_type": "markdown",
   "metadata": {},
   "source": [
    "## Working with Numpy library"
   ]
  },
  {
   "cell_type": "markdown",
   "metadata": {},
   "source": [
    "### NumPy is often significantly faster than standard Python code for numerical computations due to several reasons:\n",
    "\n",
    "1. **Vectorization**\n",
    "Avoiding Loops: NumPy allows you to perform operations on entire arrays without the need for explicit loops in Python. This process, called vectorization, leverages efficient, low-level implementations in C and avoids the overhead of Python loops.\n",
    "Batch Operations: Operations on entire arrays are executed in a single batch, which reduces the overhead of repeatedly interpreting Python code.\n",
    "2. **Optimized C and Fortran Libraries**\n",
    "Core Implementation: NumPy's core operations are implemented in C and Fortran, which are compiled languages known for their high performance. These languages can execute operations more efficiently than Python.\n",
    "BLAS and LAPACK: NumPy can link to highly optimized libraries like BLAS (Basic Linear Algebra Subprograms) and LAPACK (Linear Algebra Package) for many of its operations, particularly those involving linear algebra. These libraries are optimized for performance on various hardware architectures.\n",
    "3. **Efficient Memory Management**\n",
    "Contiguous Memory Layout: NumPy arrays are stored in contiguous blocks of memory, which improves cache performance and memory access patterns. This is in contrast to Python lists, which store elements as pointers to objects scattered in memory.\n",
    "Data Types: NumPy allows you to specify data types explicitly, enabling more efficient use of memory and operations tailored to specific data types (e.g., 32-bit or 64-bit floats)."
   ]
  },
  {
   "cell_type": "code",
   "execution_count": 10,
   "metadata": {},
   "outputs": [],
   "source": [
    "import numpy as np\n"
   ]
  },
  {
   "cell_type": "code",
   "execution_count": 11,
   "metadata": {},
   "outputs": [
    {
     "name": "stdout",
     "output_type": "stream",
     "text": [
      "Python loop: 0.0466461182 seconds\n",
      "NumPy: 0.0058786869 seconds\n"
     ]
    }
   ],
   "source": [
    "# Comparing the time in below cases tell us how fast numpy can be!!\n",
    "import time\n",
    "\n",
    "# Create a large array\n",
    "size = 10**6\n",
    "array = np.random.rand(size)\n",
    "\n",
    "# Sum using a Python loop\n",
    "start_time = time.time()\n",
    "total = sum(array)\n",
    "python_time = time.time() - start_time\n",
    "print(f\"Python loop: {python_time:.10f} seconds\")\n",
    "\n",
    "# Sum using NumPy\n",
    "start_time = time.time()\n",
    "total = np.sum(array)\n",
    "numpy_time = time.time() - start_time\n",
    "print(f\"NumPy: {numpy_time:.10f} seconds\")\n"
   ]
  },
  {
   "cell_type": "code",
   "execution_count": 17,
   "metadata": {},
   "outputs": [
    {
     "name": "stdout",
     "output_type": "stream",
     "text": [
      "<class 'numpy.ndarray'>\n"
     ]
    },
    {
     "data": {
      "text/plain": [
       "array([1, 2])"
      ]
     },
     "execution_count": 17,
     "metadata": {},
     "output_type": "execute_result"
    }
   ],
   "source": [
    "np1 = np.array([1, 2])\n",
    "print(type(np1))\n",
    "np1"
   ]
  },
  {
   "cell_type": "code",
   "execution_count": 24,
   "metadata": {},
   "outputs": [
    {
     "data": {
      "text/plain": [
       "(2,)"
      ]
     },
     "execution_count": 24,
     "metadata": {},
     "output_type": "execute_result"
    }
   ],
   "source": [
    "np1.shape"
   ]
  },
  {
   "cell_type": "code",
   "execution_count": 19,
   "metadata": {},
   "outputs": [
    {
     "data": {
      "text/plain": [
       "array([[ 1,  2,  3],\n",
       "       [10, 11, 12]])"
      ]
     },
     "execution_count": 19,
     "metadata": {},
     "output_type": "execute_result"
    }
   ],
   "source": [
    "# 2-D numpy array\n",
    "Mat1 = np.array([[1, 2, 3], [10, 11, 12]])\n",
    "Mat1"
   ]
  },
  {
   "cell_type": "code",
   "execution_count": 49,
   "metadata": {},
   "outputs": [],
   "source": [
    "# updating element at row 1 and column 2\n",
    "Mat1[1, 2] = 100"
   ]
  },
  {
   "cell_type": "code",
   "execution_count": 50,
   "metadata": {},
   "outputs": [
    {
     "data": {
      "text/plain": [
       "array([[  1,   2,   3],\n",
       "       [ 10,  11, 100]])"
      ]
     },
     "execution_count": 50,
     "metadata": {},
     "output_type": "execute_result"
    }
   ],
   "source": [
    "Mat1"
   ]
  },
  {
   "cell_type": "code",
   "execution_count": 39,
   "metadata": {},
   "outputs": [
    {
     "data": {
      "text/plain": [
       "(2, 3)"
      ]
     },
     "execution_count": 39,
     "metadata": {},
     "output_type": "execute_result"
    }
   ],
   "source": [
    "Mat1.shape"
   ]
  },
  {
   "cell_type": "code",
   "execution_count": 40,
   "metadata": {},
   "outputs": [
    {
     "data": {
      "text/plain": [
       "2"
      ]
     },
     "execution_count": 40,
     "metadata": {},
     "output_type": "execute_result"
    }
   ],
   "source": [
    "Mat1.ndim"
   ]
  },
  {
   "cell_type": "code",
   "execution_count": 41,
   "metadata": {},
   "outputs": [
    {
     "data": {
      "text/plain": [
       "dtype('int32')"
      ]
     },
     "execution_count": 41,
     "metadata": {},
     "output_type": "execute_result"
    }
   ],
   "source": [
    "# Getting datatype \n",
    "Mat1.dtype"
   ]
  },
  {
   "cell_type": "code",
   "execution_count": 42,
   "metadata": {},
   "outputs": [],
   "source": [
    "np2 = np.array([1, 2, 3.0])"
   ]
  },
  {
   "cell_type": "code",
   "execution_count": 43,
   "metadata": {},
   "outputs": [
    {
     "data": {
      "text/plain": [
       "dtype('float64')"
      ]
     },
     "execution_count": 43,
     "metadata": {},
     "output_type": "execute_result"
    }
   ],
   "source": [
    "np2.dtype"
   ]
  },
  {
   "cell_type": "code",
   "execution_count": 52,
   "metadata": {},
   "outputs": [],
   "source": [
    "np3 = np.array([1, 2.34, \"dfjbvdj\"])"
   ]
  },
  {
   "cell_type": "code",
   "execution_count": 53,
   "metadata": {},
   "outputs": [
    {
     "data": {
      "text/plain": [
       "array(['1', '2.34', 'dfjbvdj'], dtype='<U32')"
      ]
     },
     "execution_count": 53,
     "metadata": {},
     "output_type": "execute_result"
    }
   ],
   "source": [
    "np3"
   ]
  },
  {
   "cell_type": "code",
   "execution_count": 54,
   "metadata": {},
   "outputs": [],
   "source": [
    "np3[0] = \"jgjrnfjg\""
   ]
  },
  {
   "cell_type": "code",
   "execution_count": 55,
   "metadata": {},
   "outputs": [
    {
     "data": {
      "text/plain": [
       "array(['jgjrnfjg', '2.34', 'dfjbvdj'], dtype='<U32')"
      ]
     },
     "execution_count": 55,
     "metadata": {},
     "output_type": "execute_result"
    }
   ],
   "source": [
    "np3"
   ]
  },
  {
   "cell_type": "code",
   "execution_count": 57,
   "metadata": {},
   "outputs": [
    {
     "data": {
      "text/plain": [
       "array([ 1,  4,  7, 10])"
      ]
     },
     "execution_count": 57,
     "metadata": {},
     "output_type": "execute_result"
    }
   ],
   "source": [
    "# arrange in numpy\n",
    "Mat = np.arange(1, 11, 3)\n",
    "Mat"
   ]
  },
  {
   "cell_type": "code",
   "execution_count": 61,
   "metadata": {},
   "outputs": [
    {
     "data": {
      "text/plain": [
       "array([ 1.        ,  2.11111111,  3.22222222,  4.33333333,  5.44444444,\n",
       "        6.55555556,  7.66666667,  8.77777778,  9.88888889, 11.        ])"
      ]
     },
     "execution_count": 61,
     "metadata": {},
     "output_type": "execute_result"
    }
   ],
   "source": [
    "# linspace in numpy, 10 quidistant elements\n",
    "Mat = np.linspace(1, 11, 10)\n",
    "Mat"
   ]
  },
  {
   "cell_type": "code",
   "execution_count": 68,
   "metadata": {},
   "outputs": [],
   "source": [
    "# 5 X 5 matrix, with each element between 0 and 1, uniform distribution\n",
    "Mat4 = np.random.rand(5, 5)"
   ]
  },
  {
   "cell_type": "code",
   "execution_count": 69,
   "metadata": {},
   "outputs": [
    {
     "data": {
      "text/plain": [
       "array([[0.83895901, 0.36801453, 0.65853515, 0.9572761 , 0.18410706],\n",
       "       [0.8902169 , 0.02624809, 0.69803157, 0.97979502, 0.87545162],\n",
       "       [0.22305222, 0.98678818, 0.25316989, 0.01726981, 0.76510164],\n",
       "       [0.78623042, 0.41848612, 0.91062087, 0.24936698, 0.97286439],\n",
       "       [0.56777683, 0.94880363, 0.23241473, 0.64378712, 0.9777338 ]])"
      ]
     },
     "execution_count": 69,
     "metadata": {},
     "output_type": "execute_result"
    }
   ],
   "source": [
    "Mat4"
   ]
  },
  {
   "cell_type": "code",
   "execution_count": 70,
   "metadata": {},
   "outputs": [
    {
     "data": {
      "text/plain": [
       "array([[-1.14848052,  0.52052388, -0.49556301,  0.74553602, -1.52971073,\n",
       "        -0.02738794, -0.1393623 , -0.04599663,  1.02186277, -0.83605153],\n",
       "       [-2.19135243,  1.02302065, -0.66218821, -0.56026477, -0.17655636,\n",
       "        -0.0352456 , -0.31231979, -1.09160987,  0.36903082,  1.19613789],\n",
       "       [ 0.7625414 ,  1.68960589, -1.44350645,  0.43481957, -0.94411906,\n",
       "         1.35024105, -0.40913146,  0.97916386, -0.3069756 ,  0.30223842],\n",
       "       [ 0.5168657 ,  1.05691473, -0.13654635,  0.70788259, -0.01295608,\n",
       "         0.94341736,  0.41695603, -0.19788293,  0.56850277, -1.65296359],\n",
       "       [ 0.35417469,  0.51171929,  0.05261298, -0.43774875, -1.57453987,\n",
       "         0.54618361, -0.68501068,  0.48069262, -0.43673711, -0.03905903],\n",
       "       [ 0.55133477,  1.7906898 ,  0.44412162, -0.59236474, -0.55564305,\n",
       "         1.19765464,  1.14316655,  0.30557906, -0.18779054, -0.57062831],\n",
       "       [-1.19263634,  1.47027902,  1.85267816,  0.23836513, -0.49010637,\n",
       "        -0.83335955,  1.63629624, -0.15359024,  0.19392441,  0.9011203 ],\n",
       "       [-1.24895134, -0.20744266,  0.7274292 , -1.09793908,  0.54317253,\n",
       "        -0.7390324 ,  0.30718364, -0.82994155,  0.89494314, -1.58395134],\n",
       "       [ 1.50388686,  0.87948092, -0.54241814, -0.75774568,  0.1287355 ,\n",
       "         1.34821106, -0.31360388,  0.61106207, -0.78240735, -1.61345501],\n",
       "       [ 0.78705698,  0.58367213,  1.42653958,  0.32066502, -0.35866983,\n",
       "         0.1033679 ,  0.25002868,  0.88300613, -0.52946086, -0.7195248 ]])"
      ]
     },
     "execution_count": 70,
     "metadata": {},
     "output_type": "execute_result"
    }
   ],
   "source": [
    "#  Normally distributed random numbers\n",
    "Mat5 = np.random.randn(10, 10)\n",
    "Mat5"
   ]
  },
  {
   "cell_type": "code",
   "execution_count": 76,
   "metadata": {},
   "outputs": [
    {
     "data": {
      "text/plain": [
       "array([[10,  0,  0,  0],\n",
       "       [ 0, 10,  0,  0],\n",
       "       [ 0,  0, 11,  0],\n",
       "       [ 0,  0,  0, 12]])"
      ]
     },
     "execution_count": 76,
     "metadata": {},
     "output_type": "execute_result"
    }
   ],
   "source": [
    "np.diag([10, 10, 11 , 12])"
   ]
  },
  {
   "cell_type": "code",
   "execution_count": 84,
   "metadata": {},
   "outputs": [
    {
     "data": {
      "text/plain": [
       "array([[0., 0., 0., 0.],\n",
       "       [0., 0., 0., 0.]])"
      ]
     },
     "execution_count": 84,
     "metadata": {},
     "output_type": "execute_result"
    }
   ],
   "source": [
    "np.zeros([2, 4])"
   ]
  },
  {
   "cell_type": "code",
   "execution_count": 85,
   "metadata": {},
   "outputs": [
    {
     "data": {
      "text/plain": [
       "array([[[1., 1.],\n",
       "        [1., 1.]],\n",
       "\n",
       "       [[1., 1.],\n",
       "        [1., 1.]]])"
      ]
     },
     "execution_count": 85,
     "metadata": {},
     "output_type": "execute_result"
    }
   ],
   "source": [
    "np.ones([2, 2, 2])"
   ]
  },
  {
   "cell_type": "code",
   "execution_count": 89,
   "metadata": {},
   "outputs": [
    {
     "data": {
      "text/plain": [
       "array([[-1.37457789,  1.00700086, -0.60928945,  0.15471863, -1.93896376,\n",
       "         0.19154672],\n",
       "       [ 0.47864925,  0.11097679,  0.25629466, -1.36469044,  1.13400544,\n",
       "         0.35626665],\n",
       "       [ 0.19789176,  0.5265725 , -2.43991049,  0.90384109,  0.4412204 ,\n",
       "         0.64764989],\n",
       "       [ 0.37663714, -0.68532302,  0.14632429,  1.81321787,  0.80601039,\n",
       "         0.3839172 ],\n",
       "       [ 0.4621727 ,  0.97467569, -1.2333432 , -0.98308389, -0.17549267,\n",
       "         0.5379203 ]])"
      ]
     },
     "execution_count": 89,
     "metadata": {},
     "output_type": "execute_result"
    }
   ],
   "source": [
    "# slicings \n",
    "Mat5 = np.random.randn(5, 6)\n",
    "Mat5"
   ]
  },
  {
   "cell_type": "code",
   "execution_count": 90,
   "metadata": {},
   "outputs": [
    {
     "data": {
      "text/plain": [
       "-1.374577894853716"
      ]
     },
     "execution_count": 90,
     "metadata": {},
     "output_type": "execute_result"
    }
   ],
   "source": [
    "Mat5[0, 0]"
   ]
  },
  {
   "cell_type": "code",
   "execution_count": 92,
   "metadata": {},
   "outputs": [
    {
     "data": {
      "text/plain": [
       "array([[-1.37457789,  1.00700086, -0.60928945,  0.15471863, -1.93896376,\n",
       "         0.19154672],\n",
       "       [ 0.47864925,  0.11097679,  0.25629466, -1.36469044,  1.13400544,\n",
       "         0.35626665],\n",
       "       [ 0.19789176,  0.5265725 , -2.43991049,  0.90384109,  0.4412204 ,\n",
       "         0.64764989]])"
      ]
     },
     "execution_count": 92,
     "metadata": {},
     "output_type": "execute_result"
    }
   ],
   "source": [
    "# Rows with index 0, 1 and 2 and all columns\n",
    "Mat5[0:3, :]"
   ]
  },
  {
   "cell_type": "code",
   "execution_count": 93,
   "metadata": {},
   "outputs": [
    {
     "data": {
      "text/plain": [
       "tuple"
      ]
     },
     "execution_count": 93,
     "metadata": {},
     "output_type": "execute_result"
    }
   ],
   "source": [
    "type(Mat5.shape)"
   ]
  }
 ],
 "metadata": {
  "kernelspec": {
   "display_name": "Python 3",
   "language": "python",
   "name": "python3"
  },
  "language_info": {
   "codemirror_mode": {
    "name": "ipython",
    "version": 3
   },
   "file_extension": ".py",
   "mimetype": "text/x-python",
   "name": "python",
   "nbconvert_exporter": "python",
   "pygments_lexer": "ipython3",
   "version": "3.12.3"
  }
 },
 "nbformat": 4,
 "nbformat_minor": 2
}
